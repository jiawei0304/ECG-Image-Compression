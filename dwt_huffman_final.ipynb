{
 "cells": [
  {
   "cell_type": "code",
   "execution_count": null,
   "id": "2c4cc7ba-4bf7-4c72-93b2-903f52357e5d",
   "metadata": {},
   "outputs": [],
   "source": [
    "import numpy as np\n",
    "import pywt\n",
    "import pickle\n",
    "from PIL import Image\n",
    "import os\n",
    "import heapq\n",
    "import time\n",
    "import csv\n"
   ]
  },
  {
   "cell_type": "markdown",
   "id": "a5572aee",
   "metadata": {},
   "source": [
    "Huffman"
   ]
  },
  {
   "cell_type": "code",
   "execution_count": null,
   "id": "6e6a63e3",
   "metadata": {},
   "outputs": [],
   "source": [
    "\n",
    "class node:\n",
    "    def __init__(self, frequency, symbol, left=None, right=None):\n",
    "        self.frequency = frequency\n",
    "        self.symbol = symbol\n",
    "        self.left = left\n",
    "        self.right = right\n",
    "        self.huffman_direction = ''\n",
    "\n",
    "    def __lt__(self, nxt):\n",
    "        return self.frequency < nxt.frequency\n",
    "\n",
    "def get_frequency(bit_string):\n",
    "    byte_to_frequency = {}\n",
    "    for i in range(0, len(bit_string), 8):\n",
    "        byte = bit_string[i:i + 8]\n",
    "        if byte not in byte_to_frequency:\n",
    "            byte_to_frequency[byte] = 0\n",
    "        byte_to_frequency[byte] += 1\n",
    "    return byte_to_frequency\n",
    "\n",
    "def get_merged_huffman_tree(byte_to_frequency):\n",
    "    huffman_tree = []\n",
    "    for byte, frequency in byte_to_frequency.items():\n",
    "        heapq.heappush(huffman_tree, node(frequency, byte))\n",
    "    while len(huffman_tree) > 1:\n",
    "        left = heapq.heappop(huffman_tree)\n",
    "        right = heapq.heappop(huffman_tree)\n",
    "        left.huffman_direction = \"0\"\n",
    "        right.huffman_direction = \"1\"\n",
    "        merged_node = node(left.frequency + right.frequency, left.symbol + right.symbol, left, right)\n",
    "        heapq.heappush(huffman_tree, merged_node)\n",
    "    return huffman_tree[0]\n",
    "\n",
    "def calculate_huffman_codes(node, code='', huffman_codes={}):\n",
    "    code += node.huffman_direction\n",
    "    if node.left:\n",
    "        calculate_huffman_codes(node.left, code, huffman_codes)\n",
    "    if node.right:\n",
    "        calculate_huffman_codes(node.right, code, huffman_codes)\n",
    "    if not node.left and not node.right:\n",
    "        huffman_codes[node.symbol] = code\n",
    "    return huffman_codes\n",
    "\n",
    "def compress(bit_string):\n",
    "    byte_to_frequency = get_frequency(bit_string)\n",
    "    merged_tree = get_merged_huffman_tree(byte_to_frequency)\n",
    "    huffman_codes = calculate_huffman_codes(merged_tree)\n",
    "    compressed = ''.join(huffman_codes[bit_string[i:i+8]] for i in range(0, len(bit_string), 8))\n",
    "    return compressed, huffman_codes\n",
    "\n",
    "def decompress(compressed_string, huffman_codes):\n",
    "    reverse_codes = {v: k for k, v in huffman_codes.items()}\n",
    "    current_code = \"\"\n",
    "    decompressed = \"\"\n",
    "    for bit in compressed_string:\n",
    "        current_code += bit\n",
    "        if current_code in reverse_codes:\n",
    "            decompressed += reverse_codes[current_code]\n",
    "            current_code = \"\"\n",
    "    return decompressed\n",
    "\n",
    "def write_binary(bit_string, path):\n",
    "    with open(path, 'wb') as f:\n",
    "        for i in range(0, len(bit_string), 8):\n",
    "            byte = bit_string[i:i+8]\n",
    "            f.write(bytes([int(byte, 2)]))\n",
    "\n",
    "def read_binary(path):\n",
    "    with open(path, 'rb') as f:\n",
    "        return ''.join(format(byte, '08b') for byte in f.read())\n",
    "\n"
   ]
  },
  {
   "cell_type": "markdown",
   "id": "04adbd2e",
   "metadata": {},
   "source": [
    "DWT"
   ]
  },
  {
   "cell_type": "code",
   "execution_count": null,
   "id": "8f56eac7",
   "metadata": {},
   "outputs": [],
   "source": [
    "\n",
    "def compress_ecg_image(img_array, wavelet='haar', level=2, threshold=10):\n",
    "    coeffs = pywt.wavedec2(img_array, wavelet=wavelet, level=level)\n",
    "    coeff_arr, coeff_slices = pywt.coeffs_to_array(coeffs)\n",
    "    coeff_arr[np.abs(coeff_arr) < threshold] = 0\n",
    "    return coeff_arr, coeff_slices\n",
    "\n",
    "def decompress_ecg_image(coeff_arr, coeff_slices, wavelet='haar'):\n",
    "    coeffs_from_arr = pywt.array_to_coeffs(coeff_arr, coeff_slices, output_format='wavedec2')\n",
    "    reconstructed = pywt.waverec2(coeffs_from_arr, wavelet=wavelet)\n",
    "    return np.clip(reconstructed, 0, 255).astype(np.uint8)\n",
    "\n"
   ]
  },
  {
   "cell_type": "markdown",
   "id": "c9cfb351",
   "metadata": {},
   "source": [
    "Full pipeline"
   ]
  },
  {
   "cell_type": "code",
   "execution_count": null,
   "id": "88f909a2",
   "metadata": {},
   "outputs": [],
   "source": [
    "durations = []\n",
    "def compress_and_reconstruct_folder(input_folder, output_folder):\n",
    "    os.makedirs(output_folder, exist_ok=True)\n",
    "\n",
    "    def bin16_to_signed_int(b):\n",
    "        val = int(b, 2)\n",
    "        if val >= 2**15:\n",
    "            val -= 2**16\n",
    "        return val\n",
    "\n",
    "    for filename in os.listdir(input_folder):\n",
    "        if not filename.lower().endswith(('.png', '.jpg', '.jpeg', '.bmp')):\n",
    "            continue\n",
    "        start_time = time.time()\n",
    "        input_path = os.path.join(input_folder, filename)\n",
    "        image = Image.open(input_path).convert('L')\n",
    "        arr = np.array(image)\n",
    "\n",
    "        # Compression\n",
    "        coeff_arr, coeff_slices = compress_ecg_image(arr)\n",
    "        quantized = np.round(coeff_arr).astype(np.int16)\n",
    "        flat = quantized.flatten()\n",
    "        bit_string = ''.join(format(val & 0xFFFF, '016b') for val in flat)\n",
    "        compressed_bits, codes = compress(bit_string)\n",
    "\n",
    "        # Decompression\n",
    "        decompressed_bits = decompress(compressed_bits, codes)\n",
    "        flat_vals = [bin16_to_signed_int(decompressed_bits[i:i+16]) for i in range(0, len(decompressed_bits), 16)]\n",
    "        reshaped = np.array(flat_vals, dtype=np.int16).reshape(quantized.shape)\n",
    "        reconstructed = decompress_ecg_image(reshaped, coeff_slices)\n",
    "\n",
    "        # Save reconstructed image\n",
    "        save_path = os.path.join(output_folder, filename)\n",
    "        Image.fromarray(reconstructed).save(save_path)\n",
    "        end_time = time.time()\n",
    "        duration = end_time - start_time\n",
    "        durations.append((filename, duration))\n",
    "    csv_path = 'dwt_huffman.csv'\n",
    "    with open(csv_path, 'w', newline='') as f:\n",
    "        writer = csv.writer(f)\n",
    "        writer.writerow(['Image Name', 'Duration (seconds)'])\n",
    "        writer.writerows(durations)\n",
    "    \n",
    "    print(f\"✅ Duration tracking complete. Saved to: {csv_path}\")"
   ]
  },
  {
   "cell_type": "code",
   "execution_count": 11,
   "id": "833d978f-b688-4afe-af4d-a78a4263eb61",
   "metadata": {},
   "outputs": [
    {
     "name": "stdout",
     "output_type": "stream",
     "text": [
      "✅ Duration tracking complete. Saved to: dwt_huffman.csv\n"
     ]
    }
   ],
   "source": [
    "compress_and_reconstruct_folder(\"org_ecg_10sec_resize\", \"dwt_huffman\")"
   ]
  }
 ],
 "metadata": {
  "kernelspec": {
   "display_name": "Python 3 (ipykernel)",
   "language": "python",
   "name": "python3"
  },
  "language_info": {
   "codemirror_mode": {
    "name": "ipython",
    "version": 3
   },
   "file_extension": ".py",
   "mimetype": "text/x-python",
   "name": "python",
   "nbconvert_exporter": "python",
   "pygments_lexer": "ipython3",
   "version": "3.11.7"
  }
 },
 "nbformat": 4,
 "nbformat_minor": 5
}
