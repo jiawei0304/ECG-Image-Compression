{
 "cells": [
  {
   "cell_type": "code",
   "execution_count": 1,
   "id": "c71e2864-3134-4b46-b20d-5808c038a961",
   "metadata": {},
   "outputs": [],
   "source": [
    "import os\n",
    "import cv2\n",
    "import numpy as np\n",
    "import pandas as pd\n",
    "from skimage.metrics import structural_similarity as ssim\n",
    "from skimage.metrics import peak_signal_noise_ratio as psnr"
   ]
  },
  {
   "cell_type": "code",
   "execution_count": 3,
   "id": "acbf585b-c8ea-4b10-86af-4298b54d8b8c",
   "metadata": {},
   "outputs": [
    {
     "name": "stdout",
     "output_type": "stream",
     "text": [
      "✅ Metrics saved to caearithmetic.xlsx\n"
     ]
    }
   ],
   "source": [
    "#  PRD Function \n",
    "def calculate_prd(original, reconstructed):\n",
    "    numerator = np.sum((original - reconstructed) ** 2)\n",
    "    denominator = np.sum(original ** 2)\n",
    "    return np.sqrt(numerator / denominator) * 100 if denominator != 0 else float('inf')\n",
    "\n",
    "#  Main Metrics Function \n",
    "def calculate_metrics(original_path, compressed_path):\n",
    "    original = cv2.imread(original_path, cv2.IMREAD_GRAYSCALE)\n",
    "    compressed = cv2.imread(compressed_path, cv2.IMREAD_GRAYSCALE)\n",
    "\n",
    "    if original is None or compressed is None:\n",
    "        return None\n",
    "\n",
    "    if original.shape != compressed.shape:\n",
    "        print(f\"Skipping {os.path.basename(original_path)}: size mismatch\")\n",
    "        return None\n",
    "\n",
    "    ssim_val = ssim(original, compressed)\n",
    "    psnr_val = psnr(original, compressed)\n",
    "    prd_val = calculate_prd(original.astype(np.float64), compressed.astype(np.float64))\n",
    "\n",
    "    # Compression ratio\n",
    "    original_size = os.path.getsize(original_path)\n",
    "    compressed_size = os.path.getsize(compressed_path)\n",
    "    cr = original_size / compressed_size if compressed_size != 0 else float('inf')\n",
    "\n",
    "    return {\n",
    "        'Image Name': os.path.basename(original_path),\n",
    "        'Compression Ratio': cr,\n",
    "        'PSNR': psnr_val,\n",
    "        'SSIM': ssim_val,\n",
    "        'PRD': prd_val\n",
    "    }\n",
    "\n",
    "#  Batch Processing \n",
    "original_folder = 'org_ecg_10sec_resize'\n",
    "compressed_folder = 'caearithmetic'\n",
    "\n",
    "results = []\n",
    "\n",
    "for filename in os.listdir(original_folder):\n",
    "    if filename.lower().endswith(('.png', '.bmp', '.jpg')):\n",
    "        orig_path = os.path.join(original_folder, filename)\n",
    "        comp_path = os.path.join(compressed_folder, filename)\n",
    "\n",
    "        if os.path.exists(comp_path):\n",
    "            metrics = calculate_metrics(orig_path, comp_path)\n",
    "            if metrics:\n",
    "                results.append(metrics)\n",
    "        else:\n",
    "            print(f\"Compressed version missing for {filename}\")\n",
    "\n",
    "# ---- Save to Excel ----\n",
    "df = pd.DataFrame(results)\n",
    "df.to_excel('caearithmetic.xlsx', index=False)\n",
    "print(\"✅ Metrics saved to caearithmetic.xlsx\")"
   ]
  },
  {
   "cell_type": "code",
   "execution_count": null,
   "id": "524b6e06-7bc8-4ed0-8bd7-9c360d976b38",
   "metadata": {},
   "outputs": [],
   "source": []
  },
  {
   "cell_type": "code",
   "execution_count": null,
   "id": "196feff0-9837-4d01-8654-d647fabd15aa",
   "metadata": {},
   "outputs": [],
   "source": []
  },
  {
   "cell_type": "code",
   "execution_count": null,
   "id": "c8ce37d5-b75f-4d29-8805-22ff49b84f68",
   "metadata": {},
   "outputs": [],
   "source": []
  }
 ],
 "metadata": {
  "kernelspec": {
   "display_name": "Python 3 (ipykernel)",
   "language": "python",
   "name": "python3"
  },
  "language_info": {
   "codemirror_mode": {
    "name": "ipython",
    "version": 3
   },
   "file_extension": ".py",
   "mimetype": "text/x-python",
   "name": "python",
   "nbconvert_exporter": "python",
   "pygments_lexer": "ipython3",
   "version": "3.11.7"
  }
 },
 "nbformat": 4,
 "nbformat_minor": 5
}
